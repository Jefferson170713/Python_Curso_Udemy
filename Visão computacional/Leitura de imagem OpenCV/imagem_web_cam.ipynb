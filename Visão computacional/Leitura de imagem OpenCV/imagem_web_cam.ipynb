{
 "cells": [
  {
   "cell_type": "code",
   "execution_count": 1,
   "id": "ed92ee3a",
   "metadata": {},
   "outputs": [],
   "source": [
    "# [J]efferson Eng. Produção\n",
    "import cv2\n"
   ]
  },
  {
   "cell_type": "code",
   "execution_count": 2,
   "id": "f12cd7b9",
   "metadata": {},
   "outputs": [],
   "source": [
    "cascade = 'haarcascade_frontalface_alt2.xml'"
   ]
  },
  {
   "cell_type": "code",
   "execution_count": 3,
   "id": "e4adf098",
   "metadata": {},
   "outputs": [],
   "source": [
    "# Carregar classificação\n",
    "faceClassifier = cv2.CascadeClassifier(cascade)"
   ]
  },
  {
   "cell_type": "code",
   "execution_count": 4,
   "id": "7942e000",
   "metadata": {},
   "outputs": [
    {
     "data": {
      "text/plain": [
       "True"
      ]
     },
     "execution_count": 4,
     "metadata": {},
     "output_type": "execute_result"
    }
   ],
   "source": [
    "caputara = cv2.VideoCapture(0)\n",
    "\n",
    "caputara.set(cv2.CAP_PROP_FRAME_WIDTH, 320)\n",
    "caputara.set(cv2.CAP_PROP_FRAME_HEIGHT, 240)"
   ]
  },
  {
   "cell_type": "code",
   "execution_count": 5,
   "id": "03672971",
   "metadata": {},
   "outputs": [],
   "source": [
    "while caputara.isOpened():\n",
    "    \n",
    "    ret, frame = caputara.read()\n",
    "    \n",
    "    cinza = cv2.cvtColor(frame, cv2.COLOR_BGR2GRAY)\n",
    "    \n",
    "    face = faceClassifier.detectMultiScale(cinza)\n",
    "    \n",
    "    for x, y, w, h in face:\n",
    "        cv2.rectangle(frame, (x, y), (x + w, y + h ), (0, 0, 255), 2)\n",
    "    \n",
    "    for x, y, w, h in face:\n",
    "        cv2.rectangle(cinza, (x, y), (x + w, y + h), (0, 255, 0), 1)\n",
    "    \n",
    "    cv2.imshow('color', frame)\n",
    "    cv2.imshow('gray', cinza)\n",
    "    \n",
    "    if cv2.waitKey(5) & 0xFF == 27:\n",
    "      break\n",
    "caputara.release()"
   ]
  },
  {
   "cell_type": "code",
   "execution_count": null,
   "id": "e648ebb1",
   "metadata": {},
   "outputs": [],
   "source": []
  },
  {
   "cell_type": "code",
   "execution_count": null,
   "id": "d4795151",
   "metadata": {},
   "outputs": [],
   "source": []
  },
  {
   "cell_type": "code",
   "execution_count": null,
   "id": "7034d797",
   "metadata": {},
   "outputs": [],
   "source": []
  },
  {
   "cell_type": "code",
   "execution_count": null,
   "id": "e71e7cc1",
   "metadata": {},
   "outputs": [],
   "source": []
  }
 ],
 "metadata": {
  "kernelspec": {
   "display_name": "Python 3 (ipykernel)",
   "language": "python",
   "name": "python3"
  },
  "language_info": {
   "codemirror_mode": {
    "name": "ipython",
    "version": 3
   },
   "file_extension": ".py",
   "mimetype": "text/x-python",
   "name": "python",
   "nbconvert_exporter": "python",
   "pygments_lexer": "ipython3",
   "version": "3.9.12"
  }
 },
 "nbformat": 4,
 "nbformat_minor": 5
}
